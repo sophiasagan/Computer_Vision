{
  "nbformat": 4,
  "nbformat_minor": 5,
  "metadata": {
    "kernelspec": {
      "display_name": "Python (cvenv)",
      "language": "python",
      "name": "cvenv"
    },
    "language_info": {
      "codemirror_mode": {
        "name": "ipython",
        "version": 3
      },
      "file_extension": ".py",
      "mimetype": "text/x-python",
      "name": "python",
      "nbconvert_exporter": "python",
      "pygments_lexer": "ipython3",
      "version": "3.6.13"
    },
    "colab": {
      "name": "Brain_Tumor_CNN.ipynb",
      "provenance": [],
      "include_colab_link": true
    }
  },
  "cells": [
    {
      "cell_type": "markdown",
      "metadata": {
        "id": "view-in-github",
        "colab_type": "text"
      },
      "source": [
        "<a href=\"https://colab.research.google.com/github/sophiasagan/Computer_Vision/blob/main/Brain_Tumor_CNN.ipynb\" target=\"_parent\"><img src=\"https://colab.research.google.com/assets/colab-badge.svg\" alt=\"Open In Colab\"/></a>"
      ]
    },
    {
      "cell_type": "code",
      "metadata": {
        "id": "c31a9215"
      },
      "source": [
        "import numpy as np \n",
        "import pandas as pd \n",
        "import os\n",
        "import cv2 as cv2\n",
        "import tensorflow as tf \n",
        "from matplotlib import pyplot as plt \n",
        "from sklearn.model_selection import train_test_split\n",
        "from tensorflow.keras.models import Sequential\n",
        "from tensorflow.keras.layers import Conv2D, MaxPooling2D, Dense, Flatten, GlobalAveragePooling2D, Dropout\n",
        "from tensorflow.keras.preprocessing.image import ImageDataGenerator, load_img, img_to_array"
      ],
      "id": "c31a9215",
      "execution_count": null,
      "outputs": []
    },
    {
      "cell_type": "code",
      "metadata": {
        "id": "3a372172"
      },
      "source": [
        "dataset = r'C:\\Users\\admin\\Desktop\\CV_Risav\\D5\\brain_tumor_dataset'\n",
        "yes_path = r'C:\\Users\\admin\\Desktop\\CV_Risav\\D5\\brain_tumor_dataset\\yes'\n",
        "no_path = r'C:\\Users\\admin\\Desktop\\CV_Risav\\D5\\brain_tumor_dataset\\no'\n",
        "\n"
      ],
      "id": "3a372172",
      "execution_count": null,
      "outputs": []
    },
    {
      "cell_type": "code",
      "metadata": {
        "colab": {
          "base_uri": "https://localhost:8080/",
          "height": 598
        },
        "id": "21560af1",
        "outputId": "c8ab99f1-aece-48eb-9e2b-f4efd8cd0330"
      },
      "source": [
        "img = cv2.imread(yes_path + \"\\\\Y25.jpg\")\n",
        "plt.imshow(img)\n",
        "print(img.shape)"
      ],
      "id": "21560af1",
      "execution_count": null,
      "outputs": [
        {
          "output_type": "error",
          "ename": "TypeError",
          "evalue": "ignored",
          "traceback": [
            "\u001b[0;31m---------------------------------------------------------------------------\u001b[0m",
            "\u001b[0;31mTypeError\u001b[0m                                 Traceback (most recent call last)",
            "\u001b[0;32m<ipython-input-3-f3f8e460e478>\u001b[0m in \u001b[0;36m<module>\u001b[0;34m()\u001b[0m\n\u001b[1;32m      1\u001b[0m \u001b[0mimg\u001b[0m \u001b[0;34m=\u001b[0m \u001b[0mcv2\u001b[0m\u001b[0;34m.\u001b[0m\u001b[0mimread\u001b[0m\u001b[0;34m(\u001b[0m\u001b[0myes_path\u001b[0m \u001b[0;34m+\u001b[0m \u001b[0;34m\"\\\\Y25.jpg\"\u001b[0m\u001b[0;34m)\u001b[0m\u001b[0;34m\u001b[0m\u001b[0;34m\u001b[0m\u001b[0m\n\u001b[0;32m----> 2\u001b[0;31m \u001b[0mplt\u001b[0m\u001b[0;34m.\u001b[0m\u001b[0mimshow\u001b[0m\u001b[0;34m(\u001b[0m\u001b[0mimg\u001b[0m\u001b[0;34m)\u001b[0m\u001b[0;34m\u001b[0m\u001b[0;34m\u001b[0m\u001b[0m\n\u001b[0m\u001b[1;32m      3\u001b[0m \u001b[0mprint\u001b[0m\u001b[0;34m(\u001b[0m\u001b[0mimg\u001b[0m\u001b[0;34m.\u001b[0m\u001b[0mshape\u001b[0m\u001b[0;34m)\u001b[0m\u001b[0;34m\u001b[0m\u001b[0;34m\u001b[0m\u001b[0m\n",
            "\u001b[0;32m/usr/local/lib/python3.7/dist-packages/matplotlib/pyplot.py\u001b[0m in \u001b[0;36mimshow\u001b[0;34m(X, cmap, norm, aspect, interpolation, alpha, vmin, vmax, origin, extent, shape, filternorm, filterrad, imlim, resample, url, data, **kwargs)\u001b[0m\n\u001b[1;32m   2649\u001b[0m         \u001b[0mfilternorm\u001b[0m\u001b[0;34m=\u001b[0m\u001b[0mfilternorm\u001b[0m\u001b[0;34m,\u001b[0m \u001b[0mfilterrad\u001b[0m\u001b[0;34m=\u001b[0m\u001b[0mfilterrad\u001b[0m\u001b[0;34m,\u001b[0m \u001b[0mimlim\u001b[0m\u001b[0;34m=\u001b[0m\u001b[0mimlim\u001b[0m\u001b[0;34m,\u001b[0m\u001b[0;34m\u001b[0m\u001b[0;34m\u001b[0m\u001b[0m\n\u001b[1;32m   2650\u001b[0m         resample=resample, url=url, **({\"data\": data} if data is not\n\u001b[0;32m-> 2651\u001b[0;31m         None else {}), **kwargs)\n\u001b[0m\u001b[1;32m   2652\u001b[0m     \u001b[0msci\u001b[0m\u001b[0;34m(\u001b[0m\u001b[0m__ret\u001b[0m\u001b[0;34m)\u001b[0m\u001b[0;34m\u001b[0m\u001b[0;34m\u001b[0m\u001b[0m\n\u001b[1;32m   2653\u001b[0m     \u001b[0;32mreturn\u001b[0m \u001b[0m__ret\u001b[0m\u001b[0;34m\u001b[0m\u001b[0;34m\u001b[0m\u001b[0m\n",
            "\u001b[0;32m/usr/local/lib/python3.7/dist-packages/matplotlib/__init__.py\u001b[0m in \u001b[0;36minner\u001b[0;34m(ax, data, *args, **kwargs)\u001b[0m\n\u001b[1;32m   1563\u001b[0m     \u001b[0;32mdef\u001b[0m \u001b[0minner\u001b[0m\u001b[0;34m(\u001b[0m\u001b[0max\u001b[0m\u001b[0;34m,\u001b[0m \u001b[0;34m*\u001b[0m\u001b[0margs\u001b[0m\u001b[0;34m,\u001b[0m \u001b[0mdata\u001b[0m\u001b[0;34m=\u001b[0m\u001b[0;32mNone\u001b[0m\u001b[0;34m,\u001b[0m \u001b[0;34m**\u001b[0m\u001b[0mkwargs\u001b[0m\u001b[0;34m)\u001b[0m\u001b[0;34m:\u001b[0m\u001b[0;34m\u001b[0m\u001b[0;34m\u001b[0m\u001b[0m\n\u001b[1;32m   1564\u001b[0m         \u001b[0;32mif\u001b[0m \u001b[0mdata\u001b[0m \u001b[0;32mis\u001b[0m \u001b[0;32mNone\u001b[0m\u001b[0;34m:\u001b[0m\u001b[0;34m\u001b[0m\u001b[0;34m\u001b[0m\u001b[0m\n\u001b[0;32m-> 1565\u001b[0;31m             \u001b[0;32mreturn\u001b[0m \u001b[0mfunc\u001b[0m\u001b[0;34m(\u001b[0m\u001b[0max\u001b[0m\u001b[0;34m,\u001b[0m \u001b[0;34m*\u001b[0m\u001b[0mmap\u001b[0m\u001b[0;34m(\u001b[0m\u001b[0msanitize_sequence\u001b[0m\u001b[0;34m,\u001b[0m \u001b[0margs\u001b[0m\u001b[0;34m)\u001b[0m\u001b[0;34m,\u001b[0m \u001b[0;34m**\u001b[0m\u001b[0mkwargs\u001b[0m\u001b[0;34m)\u001b[0m\u001b[0;34m\u001b[0m\u001b[0;34m\u001b[0m\u001b[0m\n\u001b[0m\u001b[1;32m   1566\u001b[0m \u001b[0;34m\u001b[0m\u001b[0m\n\u001b[1;32m   1567\u001b[0m         \u001b[0mbound\u001b[0m \u001b[0;34m=\u001b[0m \u001b[0mnew_sig\u001b[0m\u001b[0;34m.\u001b[0m\u001b[0mbind\u001b[0m\u001b[0;34m(\u001b[0m\u001b[0max\u001b[0m\u001b[0;34m,\u001b[0m \u001b[0;34m*\u001b[0m\u001b[0margs\u001b[0m\u001b[0;34m,\u001b[0m \u001b[0;34m**\u001b[0m\u001b[0mkwargs\u001b[0m\u001b[0;34m)\u001b[0m\u001b[0;34m\u001b[0m\u001b[0;34m\u001b[0m\u001b[0m\n",
            "\u001b[0;32m/usr/local/lib/python3.7/dist-packages/matplotlib/cbook/deprecation.py\u001b[0m in \u001b[0;36mwrapper\u001b[0;34m(*args, **kwargs)\u001b[0m\n\u001b[1;32m    356\u001b[0m                 \u001b[0;34mf\"%(removal)s.  If any parameter follows {name!r}, they \"\u001b[0m\u001b[0;34m\u001b[0m\u001b[0;34m\u001b[0m\u001b[0m\n\u001b[1;32m    357\u001b[0m                 f\"should be pass as keyword, not positionally.\")\n\u001b[0;32m--> 358\u001b[0;31m         \u001b[0;32mreturn\u001b[0m \u001b[0mfunc\u001b[0m\u001b[0;34m(\u001b[0m\u001b[0;34m*\u001b[0m\u001b[0margs\u001b[0m\u001b[0;34m,\u001b[0m \u001b[0;34m**\u001b[0m\u001b[0mkwargs\u001b[0m\u001b[0;34m)\u001b[0m\u001b[0;34m\u001b[0m\u001b[0;34m\u001b[0m\u001b[0m\n\u001b[0m\u001b[1;32m    359\u001b[0m \u001b[0;34m\u001b[0m\u001b[0m\n\u001b[1;32m    360\u001b[0m     \u001b[0;32mreturn\u001b[0m \u001b[0mwrapper\u001b[0m\u001b[0;34m\u001b[0m\u001b[0;34m\u001b[0m\u001b[0m\n",
            "\u001b[0;32m/usr/local/lib/python3.7/dist-packages/matplotlib/cbook/deprecation.py\u001b[0m in \u001b[0;36mwrapper\u001b[0;34m(*args, **kwargs)\u001b[0m\n\u001b[1;32m    356\u001b[0m                 \u001b[0;34mf\"%(removal)s.  If any parameter follows {name!r}, they \"\u001b[0m\u001b[0;34m\u001b[0m\u001b[0;34m\u001b[0m\u001b[0m\n\u001b[1;32m    357\u001b[0m                 f\"should be pass as keyword, not positionally.\")\n\u001b[0;32m--> 358\u001b[0;31m         \u001b[0;32mreturn\u001b[0m \u001b[0mfunc\u001b[0m\u001b[0;34m(\u001b[0m\u001b[0;34m*\u001b[0m\u001b[0margs\u001b[0m\u001b[0;34m,\u001b[0m \u001b[0;34m**\u001b[0m\u001b[0mkwargs\u001b[0m\u001b[0;34m)\u001b[0m\u001b[0;34m\u001b[0m\u001b[0;34m\u001b[0m\u001b[0m\n\u001b[0m\u001b[1;32m    359\u001b[0m \u001b[0;34m\u001b[0m\u001b[0m\n\u001b[1;32m    360\u001b[0m     \u001b[0;32mreturn\u001b[0m \u001b[0mwrapper\u001b[0m\u001b[0;34m\u001b[0m\u001b[0;34m\u001b[0m\u001b[0m\n",
            "\u001b[0;32m/usr/local/lib/python3.7/dist-packages/matplotlib/axes/_axes.py\u001b[0m in \u001b[0;36mimshow\u001b[0;34m(self, X, cmap, norm, aspect, interpolation, alpha, vmin, vmax, origin, extent, shape, filternorm, filterrad, imlim, resample, url, **kwargs)\u001b[0m\n\u001b[1;32m   5624\u001b[0m                               resample=resample, **kwargs)\n\u001b[1;32m   5625\u001b[0m \u001b[0;34m\u001b[0m\u001b[0m\n\u001b[0;32m-> 5626\u001b[0;31m         \u001b[0mim\u001b[0m\u001b[0;34m.\u001b[0m\u001b[0mset_data\u001b[0m\u001b[0;34m(\u001b[0m\u001b[0mX\u001b[0m\u001b[0;34m)\u001b[0m\u001b[0;34m\u001b[0m\u001b[0;34m\u001b[0m\u001b[0m\n\u001b[0m\u001b[1;32m   5627\u001b[0m         \u001b[0mim\u001b[0m\u001b[0;34m.\u001b[0m\u001b[0mset_alpha\u001b[0m\u001b[0;34m(\u001b[0m\u001b[0malpha\u001b[0m\u001b[0;34m)\u001b[0m\u001b[0;34m\u001b[0m\u001b[0;34m\u001b[0m\u001b[0m\n\u001b[1;32m   5628\u001b[0m         \u001b[0;32mif\u001b[0m \u001b[0mim\u001b[0m\u001b[0;34m.\u001b[0m\u001b[0mget_clip_path\u001b[0m\u001b[0;34m(\u001b[0m\u001b[0;34m)\u001b[0m \u001b[0;32mis\u001b[0m \u001b[0;32mNone\u001b[0m\u001b[0;34m:\u001b[0m\u001b[0;34m\u001b[0m\u001b[0;34m\u001b[0m\u001b[0m\n",
            "\u001b[0;32m/usr/local/lib/python3.7/dist-packages/matplotlib/image.py\u001b[0m in \u001b[0;36mset_data\u001b[0;34m(self, A)\u001b[0m\n\u001b[1;32m    692\u001b[0m                 not np.can_cast(self._A.dtype, float, \"same_kind\")):\n\u001b[1;32m    693\u001b[0m             raise TypeError(\"Image data of dtype {} cannot be converted to \"\n\u001b[0;32m--> 694\u001b[0;31m                             \"float\".format(self._A.dtype))\n\u001b[0m\u001b[1;32m    695\u001b[0m \u001b[0;34m\u001b[0m\u001b[0m\n\u001b[1;32m    696\u001b[0m         if not (self._A.ndim == 2\n",
            "\u001b[0;31mTypeError\u001b[0m: Image data of dtype object cannot be converted to float"
          ]
        },
        {
          "output_type": "display_data",
          "data": {
            "image/png": "[encoded data removed]",
            "text/plain": [
              "<Figure size 432x288 with 1 Axes>"
            ]
          },
          "metadata": {
            "needs_background": "light"
          }
        }
      ]
    },
    {
      "cell_type": "code",
      "metadata": {
        "scrolled": true,
        "id": "5e6c51c4",
        "outputId": "173b968e-fcf3-4590-e6b5-597ed6138768"
      },
      "source": [
        "vals = [yes_path, no_path]\n",
        "print(os.listdir(vals[0]).__len__())\n",
        "print(os.listdir(vals[1]).__len__())"
      ],
      "id": "5e6c51c4",
      "execution_count": null,
      "outputs": [
        {
          "name": "stdout",
          "output_type": "stream",
          "text": [
            "155\n",
            "98\n"
          ]
        }
      ]
    },
    {
      "cell_type": "code",
      "metadata": {
        "id": "4c9be897",
        "outputId": "1ded48d4-88c4-467f-e850-507c808b3b93"
      },
      "source": [
        "vals = [yes_path, no_path]\n",
        "classes = ['yes', 'no']\n",
        "filepath = []\n",
        "labels = []\n",
        "for i, j in zip(vals, classes):\n",
        "    filelist = os.listdir(i)\n",
        "    print(filelist)\n",
        "    for name in filelist:\n",
        "        x = os.path.join(i, name)\n",
        "        filepath.append(x)\n",
        "        labels.append(j)\n",
        "print(filepath.__len__(), labels.__len__())"
      ],
      "id": "4c9be897",
      "execution_count": null,
      "outputs": [
        {
          "name": "stdout",
          "output_type": "stream",
          "text": [
            "['Y1.jpg', 'Y10.jpg', 'Y100.JPG', 'Y101.jpg', 'Y102.jpg', 'Y103.jpg', 'Y104.jpg', 'Y105.jpg', 'Y106.jpg', 'Y107.jpg', 'Y108.jpg', 'Y109.JPG', 'Y11.jpg', 'Y111.JPG', 'Y112.JPG', 'Y113.JPG', 'Y114.JPG', 'Y115.JPG', 'Y116.JPG', 'Y117.JPG', 'Y12.jpg', 'Y120.JPG', 'Y13.jpg', 'Y14.jpg', 'Y146.JPG', 'Y147.JPG', 'Y148.JPG', 'Y15.jpg', 'Y153.jpg', 'Y154.jpg', 'Y155.JPG', 'Y156.JPG', 'Y157.JPG', 'Y158.JPG', 'Y159.JPG', 'Y16.JPG', 'Y160.JPG', 'Y161.JPG', 'Y162.jpg', 'Y163.JPG', 'Y164.JPG', 'Y165.JPG', 'Y166.JPG', 'Y167.JPG', 'Y168.jpg', 'Y169.jpg', 'Y17.jpg', 'Y170.JPG', 'Y18.JPG', 'Y180.jpg', 'Y181.jpg', 'Y182.JPG', 'Y183.jpg', 'Y184.JPG', 'Y185.jpg', 'Y186.jpg', 'Y187.jpg', 'Y188.jpg', 'Y19.JPG', 'Y192.JPG', 'Y193.JPG', 'Y194.jpg', 'Y195.JPG', 'Y2.jpg', 'Y20.jpg', 'Y21.jpg', 'Y22.jpg', 'Y23.JPG', 'Y24.jpg', 'Y242.JPG', 'Y243.JPG', 'Y244.JPG', 'Y245.jpg', 'Y246.JPG', 'Y247.JPG', 'Y248.JPG', 'Y249.JPG', 'Y25.jpg', 'Y250.jpg', 'Y251.JPG', 'Y252.jpg', 'Y253.JPG', 'Y254.jpg', 'Y255.JPG', 'Y256.JPG', 'Y257.jpg', 'Y258.JPG', 'Y259.JPG', 'Y26.jpg', 'Y27.jpg', 'Y28.jpg', 'Y29.jpg', 'Y3.jpg', 'Y30.jpg', 'Y31.jpg', 'Y32.jpg', 'Y33.jpg', 'Y34.jpg', 'Y35.jpg', 'Y36.JPG', 'Y37.jpg', 'Y38.jpg', 'Y39.jpg', 'Y4.jpg', 'Y40.JPG', 'Y41.jpg', 'Y42.jpg', 'Y44.JPG', 'Y45.JPG', 'Y46.jpg', 'Y47.JPG', 'Y49.JPG', 'Y50.JPG', 'Y51.jpg', 'Y52.jpg', 'Y53.jpg', 'Y54.jpg', 'Y55.jpg', 'Y56.jpg', 'Y58.JPG', 'Y59.JPG', 'Y6.jpg', 'Y60.jpg', 'Y61.jpg', 'Y62.jpg', 'Y65.JPG', 'Y66.JPG', 'Y67.JPG', 'Y69.jpg', 'Y7.jpg', 'Y70.jpg', 'Y71.JPG', 'Y73.jpg', 'Y74.jpg', 'Y75.JPG', 'Y76.jpg', 'Y77.jpg', 'Y78.jpg', 'Y79.jpg', 'Y8.jpg', 'Y81.jpg', 'Y82.jpg', 'Y85.JPG', 'Y86.JPG', 'Y89.JPG', 'Y9.jpg', 'Y90.jpg', 'Y91.jpg', 'Y92.jpg', 'Y92.png', 'Y95.jpg', 'Y96.jpg', 'Y97.JPG', 'Y98.JPG', 'Y99.JPG']\n",
            "['1 no.jpeg', '10 no.jpg', '11 no.jpg', '12 no.jpg', '13 no.jpg', '14 no.jpg', '15 no.jpg', '17 no.jpg', '18 no.jpg', '19 no.jpg', '2 no.jpeg', '20 no.jpg', '21 no.jpg', '22 no.jpg', '23 no.jpg', '24 no.jpg', '25 no.jpg', '26 no.jpg', '27 no.jpg', '28 no.jpg', '29 no.jpg', '3 no.jpg', '30 no.jpg', '31 no.jpg', '32 no.jpg', '33 no.jpg', '34 no.jpg', '35 no.jpg', '36 no.jpg', '37 no.jpg', '38 no.jpg', '39 no.jpg', '4 no.jpg', '40 no.jpg', '41 no.jpg', '42 no.jpg', '43 no.jpg', '44no.jpg', '45 no.jpg', '46 no.jpg', '47 no.jpg', '48 no.jpeg', '49 no.jpg', '5 no.jpg', '50 no.jpg', '6 no.jpg', '7 no.jpg', '8 no.jpg', '9 no.jpg', 'N1.JPG', 'N11.jpg', 'N15.jpg', 'N16.jpg', 'N17.jpg', 'N19.JPG', 'N2.JPG', 'N20.JPG', 'N21.jpg', 'N22.JPG', 'N26.JPG', 'N3.jpg', 'N5.jpg', 'N6.jpg', 'no 1.jpg', 'no 10.jpg', 'no 100.jpg', 'no 2.jpg', 'no 3.jpg', 'no 4.jpg', 'no 5.jpeg', 'no 6.jpg', 'no 7.jpeg', 'no 8.jpg', 'no 89.jpg', 'no 9.png', 'no 90.jpg', 'no 91.jpeg', 'no 92.jpg', 'no 923.jpg', 'no 94.jpg', 'no 95.jpg', 'no 96.jpg', 'no 97.jpg', 'no 98.jpg', 'no 99.jpg', 'no.jpg', 'No11.jpg', 'No12.jpg', 'No13.jpg', 'No14.jpg', 'No15.jpg', 'No16.jpg', 'No17.jpg', 'No18.jpg', 'No19.jpg', 'No20.jpg', 'No21.jpg', 'No22.jpg']\n",
            "253 253\n"
          ]
        }
      ]
    },
    {
      "cell_type": "code",
      "metadata": {
        "id": "3c2a278e",
        "outputId": "47ffd386-85a1-4bc7-8e06-2cc3edbba36e"
      },
      "source": [
        "filepath[-5:]"
      ],
      "id": "3c2a278e",
      "execution_count": null,
      "outputs": [
        {
          "data": {
            "text/plain": [
              "['C:\\\\Users\\\\USER\\\\Downloads\\\\MLI\\\\Images\\\\brain_tumor_dataset\\\\no\\\\No18.jpg',\n",
              " 'C:\\\\Users\\\\USER\\\\Downloads\\\\MLI\\\\Images\\\\brain_tumor_dataset\\\\no\\\\No19.jpg',\n",
              " 'C:\\\\Users\\\\USER\\\\Downloads\\\\MLI\\\\Images\\\\brain_tumor_dataset\\\\no\\\\No20.jpg',\n",
              " 'C:\\\\Users\\\\USER\\\\Downloads\\\\MLI\\\\Images\\\\brain_tumor_dataset\\\\no\\\\No21.jpg',\n",
              " 'C:\\\\Users\\\\USER\\\\Downloads\\\\MLI\\\\Images\\\\brain_tumor_dataset\\\\no\\\\No22.jpg']"
            ]
          },
          "execution_count": 10,
          "metadata": {},
          "output_type": "execute_result"
        }
      ]
    },
    {
      "cell_type": "code",
      "metadata": {
        "id": "3736bae7",
        "outputId": "e20f3b11-d9d3-44c4-c23c-249bcac1f150"
      },
      "source": [
        "labels[-5:]"
      ],
      "id": "3736bae7",
      "execution_count": null,
      "outputs": [
        {
          "data": {
            "text/plain": [
              "['no', 'no', 'no', 'no', 'no']"
            ]
          },
          "execution_count": 9,
          "metadata": {},
          "output_type": "execute_result"
        }
      ]
    },
    {
      "cell_type": "code",
      "metadata": {
        "id": "8262ad19"
      },
      "source": [
        "datazipping = list(zip(filepath, labels))\n",
        "pathframe = pd.DataFrame(datazipping, columns=['filepath', 'labels'])"
      ],
      "id": "8262ad19",
      "execution_count": null,
      "outputs": []
    },
    {
      "cell_type": "code",
      "metadata": {
        "id": "98e4ad8e",
        "outputId": "1897289d-2a01-45f3-d506-9d3f2c6326fd"
      },
      "source": [
        "pathframe.head()\n"
      ],
      "id": "98e4ad8e",
      "execution_count": null,
      "outputs": [
        {
          "data": {
            "text/html": [
              "<div>\n",
              "<style scoped>\n",
              "    .dataframe tbody tr th:only-of-type {\n",
              "        vertical-align: middle;\n",
              "    }\n",
              "\n",
              "    .dataframe tbody tr th {\n",
              "        vertical-align: top;\n",
              "    }\n",
              "\n",
              "    .dataframe thead th {\n",
              "        text-align: right;\n",
              "    }\n",
              "</style>\n",
              "<table border=\"1\" class=\"dataframe\">\n",
              "  <thead>\n",
              "    <tr style=\"text-align: right;\">\n",
              "      <th></th>\n",
              "      <th>filepath</th>\n",
              "      <th>labels</th>\n",
              "    </tr>\n",
              "  </thead>\n",
              "  <tbody>\n",
              "    <tr>\n",
              "      <th>0</th>\n",
              "      <td>C:\\Users\\USER\\Downloads\\MLI\\Images\\brain_tumor...</td>\n",
              "      <td>yes</td>\n",
              "    </tr>\n",
              "    <tr>\n",
              "      <th>1</th>\n",
              "      <td>C:\\Users\\USER\\Downloads\\MLI\\Images\\brain_tumor...</td>\n",
              "      <td>yes</td>\n",
              "    </tr>\n",
              "    <tr>\n",
              "      <th>2</th>\n",
              "      <td>C:\\Users\\USER\\Downloads\\MLI\\Images\\brain_tumor...</td>\n",
              "      <td>yes</td>\n",
              "    </tr>\n",
              "    <tr>\n",
              "      <th>3</th>\n",
              "      <td>C:\\Users\\USER\\Downloads\\MLI\\Images\\brain_tumor...</td>\n",
              "      <td>yes</td>\n",
              "    </tr>\n",
              "    <tr>\n",
              "      <th>4</th>\n",
              "      <td>C:\\Users\\USER\\Downloads\\MLI\\Images\\brain_tumor...</td>\n",
              "      <td>yes</td>\n",
              "    </tr>\n",
              "  </tbody>\n",
              "</table>\n",
              "</div>"
            ],
            "text/plain": [
              "                                            filepath labels\n",
              "0  C:\\Users\\USER\\Downloads\\MLI\\Images\\brain_tumor...    yes\n",
              "1  C:\\Users\\USER\\Downloads\\MLI\\Images\\brain_tumor...    yes\n",
              "2  C:\\Users\\USER\\Downloads\\MLI\\Images\\brain_tumor...    yes\n",
              "3  C:\\Users\\USER\\Downloads\\MLI\\Images\\brain_tumor...    yes\n",
              "4  C:\\Users\\USER\\Downloads\\MLI\\Images\\brain_tumor...    yes"
            ]
          },
          "execution_count": 12,
          "metadata": {},
          "output_type": "execute_result"
        }
      ]
    },
    {
      "cell_type": "code",
      "metadata": {
        "id": "30cb0c35",
        "outputId": "19663824-2602-48b4-eb51-937392d735a1"
      },
      "source": [
        "pathframe.tail()"
      ],
      "id": "30cb0c35",
      "execution_count": null,
      "outputs": [
        {
          "data": {
            "text/html": [
              "<div>\n",
              "<style scoped>\n",
              "    .dataframe tbody tr th:only-of-type {\n",
              "        vertical-align: middle;\n",
              "    }\n",
              "\n",
              "    .dataframe tbody tr th {\n",
              "        vertical-align: top;\n",
              "    }\n",
              "\n",
              "    .dataframe thead th {\n",
              "        text-align: right;\n",
              "    }\n",
              "</style>\n",
              "<table border=\"1\" class=\"dataframe\">\n",
              "  <thead>\n",
              "    <tr style=\"text-align: right;\">\n",
              "      <th></th>\n",
              "      <th>filepath</th>\n",
              "      <th>labels</th>\n",
              "    </tr>\n",
              "  </thead>\n",
              "  <tbody>\n",
              "    <tr>\n",
              "      <th>248</th>\n",
              "      <td>C:\\Users\\USER\\Downloads\\MLI\\Images\\brain_tumor...</td>\n",
              "      <td>no</td>\n",
              "    </tr>\n",
              "    <tr>\n",
              "      <th>249</th>\n",
              "      <td>C:\\Users\\USER\\Downloads\\MLI\\Images\\brain_tumor...</td>\n",
              "      <td>no</td>\n",
              "    </tr>\n",
              "    <tr>\n",
              "      <th>250</th>\n",
              "      <td>C:\\Users\\USER\\Downloads\\MLI\\Images\\brain_tumor...</td>\n",
              "      <td>no</td>\n",
              "    </tr>\n",
              "    <tr>\n",
              "      <th>251</th>\n",
              "      <td>C:\\Users\\USER\\Downloads\\MLI\\Images\\brain_tumor...</td>\n",
              "      <td>no</td>\n",
              "    </tr>\n",
              "    <tr>\n",
              "      <th>252</th>\n",
              "      <td>C:\\Users\\USER\\Downloads\\MLI\\Images\\brain_tumor...</td>\n",
              "      <td>no</td>\n",
              "    </tr>\n",
              "  </tbody>\n",
              "</table>\n",
              "</div>"
            ],
            "text/plain": [
              "                                              filepath labels\n",
              "248  C:\\Users\\USER\\Downloads\\MLI\\Images\\brain_tumor...     no\n",
              "249  C:\\Users\\USER\\Downloads\\MLI\\Images\\brain_tumor...     no\n",
              "250  C:\\Users\\USER\\Downloads\\MLI\\Images\\brain_tumor...     no\n",
              "251  C:\\Users\\USER\\Downloads\\MLI\\Images\\brain_tumor...     no\n",
              "252  C:\\Users\\USER\\Downloads\\MLI\\Images\\brain_tumor...     no"
            ]
          },
          "execution_count": 13,
          "metadata": {},
          "output_type": "execute_result"
        }
      ]
    },
    {
      "cell_type": "code",
      "metadata": {
        "id": "2f1f385b",
        "outputId": "89ff5af2-fc59-48ae-dfce-cd805e6f2ba2"
      },
      "source": [
        "pathframe.__len__()"
      ],
      "id": "2f1f385b",
      "execution_count": null,
      "outputs": [
        {
          "data": {
            "text/plain": [
              "253"
            ]
          },
          "execution_count": 16,
          "metadata": {},
          "output_type": "execute_result"
        }
      ]
    },
    {
      "cell_type": "code",
      "metadata": {
        "id": "03b03445",
        "outputId": "87d4be12-4e34-475b-e12e-4a66b747379c"
      },
      "source": [
        "for i in range(0, 20):\n",
        "    vals = np.random.randint(1, len(pathframe))\n",
        "    plt.subplot(4,5, i+1)\n",
        "    plt.imshow(cv2.imread(pathframe.filepath[vals]))\n",
        "    plt.axis('off')\n",
        "plt.show()"
      ],
      "id": "03b03445",
      "execution_count": null,
      "outputs": [
        {
          "data": {
            "image/png": "[encoded data removed]",
            "text/plain": [
              "<Figure size 432x288 with 20 Axes>"
            ]
          },
          "metadata": {
            "needs_background": "light"
          },
          "output_type": "display_data"
        }
      ]
    },
    {
      "cell_type": "code",
      "metadata": {
        "id": "9261197a",
        "outputId": "ddb06053-5be0-4769-ff11-16d1ecd4d423"
      },
      "source": [
        "Train, Test = train_test_split(pathframe, train_size=0.90, random_state=42)\n",
        "Train_new, valid = train_test_split(Train, train_size=0.90, random_state=42)\n",
        "print(Train.shape, Train_new.shape, valid.shape, Test.shape)\n"
      ],
      "id": "9261197a",
      "execution_count": null,
      "outputs": [
        {
          "name": "stdout",
          "output_type": "stream",
          "text": [
            "(227, 2) (204, 2) (23, 2) (26, 2)\n"
          ]
        }
      ]
    },
    {
      "cell_type": "code",
      "metadata": {
        "id": "9bde720f"
      },
      "source": [
        "train_datagen = ImageDataGenerator(rescale=1/255, rotation_range=40, width_shift_range=0.1, height_shift_range=0.1, \n",
        "                                   shear_range=0.1, zoom_range=0.2, horizontal_flip=True, vertical_flip=True)\n",
        "test_datagen = ImageDataGenerator(rescale=1/255)"
      ],
      "id": "9bde720f",
      "execution_count": null,
      "outputs": []
    },
    {
      "cell_type": "code",
      "metadata": {
        "id": "14a7e515",
        "outputId": "87e18217-6cbd-49a2-c2c7-fd8303126d39"
      },
      "source": [
        "train_gen = train_datagen.flow_from_dataframe(dataframe = Train_new, x_col='filepath', y_col='labels', batch_size=16,\n",
        "                                             target_size=(150,150), class_mode='binary', shuffle=True)\n",
        "\n",
        "test_gen = train_datagen.flow_from_dataframe(dataframe=Test, x_col='filepath', y_col='labels', batch_size=16,\n",
        "                                            target_size=(150,150), class_mode='binary', shuffle=True)\n",
        "\n",
        "valid_gen = train_datagen.flow_from_dataframe(dataframe=valid, x_col='filepath', y_col='labels', batch_size=16,\n",
        "                                            target_size=(150,150), class_mode='binary', shuffle=True)"
      ],
      "id": "14a7e515",
      "execution_count": null,
      "outputs": [
        {
          "name": "stdout",
          "output_type": "stream",
          "text": [
            "Found 204 validated image filenames belonging to 2 classes.\n",
            "Found 26 validated image filenames belonging to 2 classes.\n",
            "Found 23 validated image filenames belonging to 2 classes.\n"
          ]
        }
      ]
    },
    {
      "cell_type": "code",
      "metadata": {
        "id": "966f5468",
        "outputId": "5677ce6a-ff47-4141-e7a9-bd126451e292"
      },
      "source": [
        "print(train_gen[0][0].shape)"
      ],
      "id": "966f5468",
      "execution_count": null,
      "outputs": [
        {
          "name": "stdout",
          "output_type": "stream",
          "text": [
            "(16, 150, 150, 3)\n"
          ]
        }
      ]
    },
    {
      "cell_type": "code",
      "metadata": {
        "id": "73fd7f1c",
        "outputId": "4f38cbef-28a3-4271-f921-d0497b0b35e8"
      },
      "source": [
        "for i in range(0, 16):\n",
        "    val = train_gen[0][0][0]\n",
        "    vals = val.astype('uint8')\n",
        "    plt.subplot(4,4,i+1)\n",
        "    plt.imshow(vals)\n",
        "    plt.axis('off')\n",
        "plt.show()"
      ],
      "id": "73fd7f1c",
      "execution_count": null,
      "outputs": [
        {
          "data": {
            "image/png": "[encoded data removed]",
            "text/plain": [
              "<Figure size 432x288 with 16 Axes>"
            ]
          },
          "metadata": {
            "needs_background": "light"
          },
          "output_type": "display_data"
        }
      ]
    },
    {
      "cell_type": "code",
      "metadata": {
        "id": "171ba9ac"
      },
      "source": [
        "base_model = tf.keras.applications.InceptionResNetV2(weights='imagenet', input_shape=(150,150,3), include_top=False)\n",
        "model = Sequential()\n",
        "model.add(base_model)\n",
        "model.add(GlobalAveragePooling2D())\n",
        "model.add(Dense(128, activation='relu'))\n",
        "model.add(Dropout(0.2))\n",
        "model.add(Dense(1, activation='sigmoid'))\n"
      ],
      "id": "171ba9ac",
      "execution_count": null,
      "outputs": []
    },
    {
      "cell_type": "code",
      "metadata": {
        "id": "1264f04c",
        "outputId": "43928832-8d23-4ab4-f05a-b85773164c0d"
      },
      "source": [
        "model.compile(loss='binary_crossentropy', optimizer='adam', metrics=['accuracy'])\n",
        "model.fit(train_gen, validation_data=valid_gen, epochs=5, verbose=2)"
      ],
      "id": "1264f04c",
      "execution_count": null,
      "outputs": [
        {
          "name": "stdout",
          "output_type": "stream",
          "text": [
            "Epoch 1/5\n",
            "13/13 - 76s - loss: 0.7359 - accuracy: 0.7059 - val_loss: 30.0711 - val_accuracy: 0.6957\n",
            "Epoch 2/5\n",
            "13/13 - 65s - loss: 0.3386 - accuracy: 0.8529 - val_loss: 2.8966 - val_accuracy: 0.6087\n",
            "Epoch 3/5\n",
            "13/13 - 67s - loss: 0.2295 - accuracy: 0.9167 - val_loss: 1.8480 - val_accuracy: 0.6087\n",
            "Epoch 4/5\n",
            "13/13 - 66s - loss: 0.2363 - accuracy: 0.9412 - val_loss: 3.9162 - val_accuracy: 0.6957\n",
            "Epoch 5/5\n",
            "13/13 - 65s - loss: 0.1330 - accuracy: 0.9559 - val_loss: 1.8442 - val_accuracy: 0.6957\n"
          ]
        },
        {
          "data": {
            "text/plain": [
              "<tensorflow.python.keras.callbacks.History at 0x185125ecba8>"
            ]
          },
          "execution_count": 33,
          "metadata": {},
          "output_type": "execute_result"
        }
      ]
    },
    {
      "cell_type": "code",
      "metadata": {
        "id": "ca9898d7"
      },
      "source": [
        ""
      ],
      "id": "ca9898d7",
      "execution_count": null,
      "outputs": []
    }
  ]
}